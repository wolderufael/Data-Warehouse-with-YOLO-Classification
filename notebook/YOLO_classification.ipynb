{
 "cells": [
  {
   "cell_type": "code",
   "execution_count": 6,
   "metadata": {},
   "outputs": [
    {
     "name": "stdout",
     "output_type": "stream",
     "text": [
      "\n",
      "image 1/1 g:\\Programming\\10_Academy\\Week_12\\Medical Data Ware house with object detection\\notebook\\..\\data\\Test10.jpeg: 64x64 pharmaceutical 1.00, supplement 0.00, nutritional 0.00, cosmetics 0.00, 98.0ms\n",
      "Speed: 2.0ms preprocess, 98.0ms inference, 0.0ms postprocess per image at shape (1, 3, 64, 64)\n",
      "Pharmaceutical Product\n"
     ]
    }
   ],
   "source": [
    "from ultralytics import YOLO\n",
    "import torch\n",
    "\n",
    "model=YOLO(\"../models/last.pt\")\n",
    "\n",
    "\n",
    "results=model(\"../data/Test10.jpeg\")\n",
    "def get_category_name(results):\n",
    "    # Access the top1 index and names mapping\n",
    "    custom_names = ['Cosmetics', 'Nutritional Product', 'Pharmaceutical Product', 'Health Supplement']\n",
    "    results[0].names = {i: name for i, name in enumerate(custom_names)}\n",
    "    top1_index = results[0].probs.top1\n",
    "    names_mapping = results[0].names\n",
    "    # Get the category name\n",
    "    category_name = names_mapping[top1_index]\n",
    "    return category_name\n",
    "\n",
    "category=get_category_name(results)\n",
    "print (category)\n"
   ]
  },
  {
   "cell_type": "code",
   "execution_count": 19,
   "metadata": {},
   "outputs": [
    {
     "name": "stdout",
     "output_type": "stream",
     "text": [
      "\n",
      "image 1/1 g:\\Programming\\10_Academy\\Week_12\\Medical Data Ware house with object detection\\notebook\\..\\data\\Test10.jpeg: 224x224 Band_Aid 0.58, packet 0.16, book_jacket 0.08, pick 0.05, comic_book 0.03, 23.0ms\n",
      "Speed: 3.0ms preprocess, 23.0ms inference, 0.0ms postprocess per image at shape (1, 3, 224, 224)\n",
      "Band_Aid\n"
     ]
    }
   ],
   "source": [
    "from ultralytics import YOLO\n",
    "\n",
    "# Load the model\n",
    "model = YOLO(\"yolo11n-cls.pt\")\n",
    "results = model.predict(source=\"../data/Test10.jpeg\", task=\"classify\")\n",
    "top1_index = results[0].probs.top1\n",
    "print(results[0].names[top1_index])\n"
   ]
  }
 ],
 "metadata": {
  "kernelspec": {
   "display_name": ".venv",
   "language": "python",
   "name": "python3"
  },
  "language_info": {
   "codemirror_mode": {
    "name": "ipython",
    "version": 3
   },
   "file_extension": ".py",
   "mimetype": "text/x-python",
   "name": "python",
   "nbconvert_exporter": "python",
   "pygments_lexer": "ipython3",
   "version": "3.12.5"
  }
 },
 "nbformat": 4,
 "nbformat_minor": 2
}
