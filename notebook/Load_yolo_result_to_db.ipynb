{
 "cells": [
  {
   "cell_type": "markdown",
   "metadata": {},
   "source": [
    "# Load YOLO Classification Result to PostgreSQL database"
   ]
  },
  {
   "cell_type": "markdown",
   "metadata": {},
   "source": [
    "### Adding project path to system path"
   ]
  },
  {
   "cell_type": "code",
   "execution_count": 1,
   "metadata": {},
   "outputs": [],
   "source": [
    "import pandas as pd\n",
    "import os\n",
    "notebook_dir = os.getcwd()\n",
    "parent_path=os.path.dirname(notebook_dir)\n",
    "\n",
    "os.chdir(parent_path)"
   ]
  },
  {
   "cell_type": "markdown",
   "metadata": {},
   "source": [
    "### Import modules"
   ]
  },
  {
   "cell_type": "code",
   "execution_count": 2,
   "metadata": {},
   "outputs": [],
   "source": [
    "from script.YOLO_classification import Classification\n",
    "loader=Classification()"
   ]
  },
  {
   "cell_type": "markdown",
   "metadata": {},
   "source": [
    "### Load data to dataframe"
   ]
  },
  {
   "cell_type": "code",
   "execution_count": 3,
   "metadata": {},
   "outputs": [
    {
     "data": {
      "text/html": [
       "<div>\n",
       "<style scoped>\n",
       "    .dataframe tbody tr th:only-of-type {\n",
       "        vertical-align: middle;\n",
       "    }\n",
       "\n",
       "    .dataframe tbody tr th {\n",
       "        vertical-align: top;\n",
       "    }\n",
       "\n",
       "    .dataframe thead th {\n",
       "        text-align: right;\n",
       "    }\n",
       "</style>\n",
       "<table border=\"1\" class=\"dataframe\">\n",
       "  <thead>\n",
       "    <tr style=\"text-align: right;\">\n",
       "      <th></th>\n",
       "      <th>image_name</th>\n",
       "      <th>product_category</th>\n",
       "    </tr>\n",
       "  </thead>\n",
       "  <tbody>\n",
       "    <tr>\n",
       "      <th>0</th>\n",
       "      <td>@lobelia4cosmetics_11388.jpg</td>\n",
       "      <td>Cosmetics</td>\n",
       "    </tr>\n",
       "    <tr>\n",
       "      <th>1</th>\n",
       "      <td>@lobelia4cosmetics_11389.jpg</td>\n",
       "      <td>Cosmetics</td>\n",
       "    </tr>\n",
       "    <tr>\n",
       "      <th>2</th>\n",
       "      <td>@lobelia4cosmetics_11390.jpg</td>\n",
       "      <td>Cosmetics</td>\n",
       "    </tr>\n",
       "    <tr>\n",
       "      <th>3</th>\n",
       "      <td>@lobelia4cosmetics_11391.jpg</td>\n",
       "      <td>Cosmetics</td>\n",
       "    </tr>\n",
       "    <tr>\n",
       "      <th>4</th>\n",
       "      <td>@lobelia4cosmetics_11392.jpg</td>\n",
       "      <td>Cosmetics</td>\n",
       "    </tr>\n",
       "  </tbody>\n",
       "</table>\n",
       "</div>"
      ],
      "text/plain": [
       "                     image_name product_category\n",
       "0  @lobelia4cosmetics_11388.jpg        Cosmetics\n",
       "1  @lobelia4cosmetics_11389.jpg        Cosmetics\n",
       "2  @lobelia4cosmetics_11390.jpg        Cosmetics\n",
       "3  @lobelia4cosmetics_11391.jpg        Cosmetics\n",
       "4  @lobelia4cosmetics_11392.jpg        Cosmetics"
      ]
     },
     "execution_count": 3,
     "metadata": {},
     "output_type": "execute_result"
    }
   ],
   "source": [
    "classification_result=pd.read_csv(\"data/classification_result.csv\")\n",
    "classification_result.head()"
   ]
  },
  {
   "cell_type": "markdown",
   "metadata": {},
   "source": [
    "## Load dataframe to postgres table"
   ]
  },
  {
   "cell_type": "code",
   "execution_count": 4,
   "metadata": {},
   "outputs": [
    {
     "name": "stdout",
     "output_type": "stream",
     "text": [
      "DataFrame successfully added to table 'product_classification' in the database.\n",
      "SQLAlchemy engine is disposed.\n"
     ]
    }
   ],
   "source": [
    "loader.add_dataframe_to_table(classification_result,\"product_classification\")"
   ]
  },
  {
   "cell_type": "code",
   "execution_count": 1,
   "metadata": {},
   "outputs": [
    {
     "ename": "NameError",
     "evalue": "name 'classification_result' is not defined",
     "output_type": "error",
     "traceback": [
      "\u001b[1;31m---------------------------------------------------------------------------\u001b[0m",
      "\u001b[1;31mNameError\u001b[0m                                 Traceback (most recent call last)",
      "Cell \u001b[1;32mIn[1], line 35\u001b[0m\n\u001b[0;32m     32\u001b[0m             engine\u001b[38;5;241m.\u001b[39mdispose()\n\u001b[0;32m     33\u001b[0m             \u001b[38;5;28mprint\u001b[39m(\u001b[38;5;124m\"\u001b[39m\u001b[38;5;124mSQLAlchemy engine is disposed.\u001b[39m\u001b[38;5;124m\"\u001b[39m)\n\u001b[1;32m---> 35\u001b[0m add_dataframe_to_table(\u001b[43mclassification_result\u001b[49m,\u001b[38;5;124m\"\u001b[39m\u001b[38;5;124mproduct_classification\u001b[39m\u001b[38;5;124m\"\u001b[39m)\n",
      "\u001b[1;31mNameError\u001b[0m: name 'classification_result' is not defined"
     ]
    }
   ],
   "source": [
    "from sqlalchemy import create_engine\n",
    "from dotenv import load_dotenv\n",
    "import os\n",
    "\n",
    "\n",
    "# Load environment variables from .env file\n",
    "load_dotenv()\n",
    "\n",
    "# Fetch credentials from .env file\n",
    "db_host = os.getenv('DB_HOST')\n",
    "db_port = os.getenv('DB_PORT')\n",
    "db_name = os.getenv('DB_NAME')\n",
    "db_user = os.getenv('DB_USER')\n",
    "db_password = os.getenv('DB_PASSWORD')\n",
    "\n",
    "def add_dataframe_to_table(df, table_name, if_exists='replace'):\n",
    "    print(db_host, db_port, db_name, db_user, db_password)\n",
    "    try:\n",
    "        # Create SQLAlchemy engine for database connection\n",
    "        engine = create_engine(f'postgresql://{db_user}:{db_password}@{db_host}:{db_port}/{db_name}')\n",
    "\n",
    "        # Use pandas to_sql to add DataFrame to the database\n",
    "        df.to_sql(table_name, engine, index=False, if_exists=if_exists)\n",
    "\n",
    "        print(f\"DataFrame successfully added to table '{table_name}' in the database.\")\n",
    "\n",
    "    except Exception as error:\n",
    "        print(\"Error while inserting DataFrame to PostgreSQL\", error)\n",
    "\n",
    "    finally:\n",
    "        if engine:\n",
    "            engine.dispose()\n",
    "            print(\"SQLAlchemy engine is disposed.\")\n",
    "\n",
    "add_dataframe_to_table(classification_result,\"product_classification\")"
   ]
  },
  {
   "cell_type": "code",
   "execution_count": 1,
   "metadata": {},
   "outputs": [
    {
     "name": "stdout",
     "output_type": "stream",
     "text": [
      "DataFrame successfully added to table 'product_classification' in the database.\n",
      "SQLAlchemy engine is disposed.\n"
     ]
    }
   ],
   "source": [
    "import os\n",
    "import pandas\n",
    "from sqlalchemy import create_engine\n",
    "from dotenv import load_dotenv\n",
    "import pandas as pd\n",
    "\n",
    "# Load environment variables from .env file\n",
    "load_dotenv()\n",
    "\n",
    "# Fetch credentials from .env file\n",
    "db_host = os.getenv('DB_HOST')\n",
    "db_port = os.getenv('DB_PORT')\n",
    "db_name = os.getenv('DB_NAME')\n",
    "db_user = os.getenv('DB_USER')\n",
    "db_password = os.getenv('DB_PASSWORD')\n",
    "\n",
    "def add_dataframe_to_table(df, table_name, if_exists='replace'):\n",
    "    try:\n",
    "        # Create SQLAlchemy engine for database connection\n",
    "        engine = create_engine(f'postgresql://{db_user}:{db_password}@{db_host}:{db_port}/{db_name}')\n",
    "\n",
    "        # Add DataFrame to database table\n",
    "        df.to_sql(table_name, engine, index=False, if_exists=if_exists, method='multi')\n",
    "        print(f\"DataFrame successfully added to table '{table_name}' in the database.\")\n",
    "\n",
    "    except Exception as error:\n",
    "        print(\"Error while inserting DataFrame to PostgreSQL:\", error)\n",
    "\n",
    "    finally:\n",
    "        try:\n",
    "            if engine:\n",
    "                engine.dispose()\n",
    "                print(\"SQLAlchemy engine is disposed.\")\n",
    "        except Exception as e:\n",
    "            print(\"Error disposing the engine:\", e)\n",
    "\n",
    "# Example DataFrame\n",
    "data = {\n",
    "    \"id\": [1, 2, 3],\n",
    "    \"product_name\": [\"Aspirin\", \"Paracetamol\", \"Ibuprofen\"],\n",
    "    \"category\": [\"Pain Relief\", \"Pain Relief\", \"Anti-Inflammatory\"]\n",
    "}\n",
    "classification_result = pd.DataFrame(data)\n",
    "\n",
    "# Add the DataFrame to PostgreSQL\n",
    "add_dataframe_to_table(classification_result, \"product_classification\")\n"
   ]
  }
 ],
 "metadata": {
  "kernelspec": {
   "display_name": ".venv",
   "language": "python",
   "name": "python3"
  },
  "language_info": {
   "codemirror_mode": {
    "name": "ipython",
    "version": 3
   },
   "file_extension": ".py",
   "mimetype": "text/x-python",
   "name": "python",
   "nbconvert_exporter": "python",
   "pygments_lexer": "ipython3",
   "version": "3.12.5"
  }
 },
 "nbformat": 4,
 "nbformat_minor": 2
}
